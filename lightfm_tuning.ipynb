{
 "cells": [
  {
   "cell_type": "code",
   "execution_count": 9,
   "metadata": {},
   "outputs": [
    {
     "data": {
      "text/plain": [
       "('C:\\\\Users\\\\yahry\\\\Downloads\\\\proj\\\\data',\n",
       " 'C:\\\\Users\\\\yahry\\\\Downloads\\\\proj\\\\reports')"
      ]
     },
     "execution_count": 9,
     "metadata": {},
     "output_type": "execute_result"
    }
   ],
   "source": [
    "import os\n",
    "import utils\n",
    "import sklearn.model_selection\n",
    "import numpy as np\n",
    "import pandas as pd\n",
    "\n",
    "RANDOM_STATE = 1337\n",
    "NUM_JOBS = -1\n",
    "\n",
    "DIR = \"--DIR-THAT-CONTAINS-THIS-FILE--\"\n",
    "DATA_DIR = os.path.join(DIR, 'data')\n",
    "REPORTS_DIR = os.path.join(DIR, 'reports')\n",
    "\n",
    "DATA_DIR, REPORTS_DIR"
   ]
  },
  {
   "cell_type": "code",
   "execution_count": 7,
   "metadata": {},
   "outputs": [
    {
     "data": {
      "text/plain": [
       "{'experiment': <Experiment.LIGHT_FM: 0>,\n",
       " 'split_strategy': TimeSortSplit(num_interactions='all', first_stage_train_split=0.6, second_stage_train_split=0.2, test_split=0.2),\n",
       " 'filter_strategy': [MinNumInteractionsFilter(min_user_ints=20, min_item_ints=500),\n",
       "  OnlyLastInteractionsFilter(filter_column='user_id', n_last=20)],\n",
       " 'concat_stages': True,\n",
       " 'use_popular_penalty': False}"
      ]
     },
     "execution_count": 7,
     "metadata": {},
     "output_type": "execute_result"
    }
   ],
   "source": [
    "utils.LightFM_Config.__dict__"
   ]
  },
  {
   "cell_type": "code",
   "execution_count": 2,
   "metadata": {},
   "outputs": [
    {
     "name": "stdout",
     "output_type": "stream",
     "text": [
      "Data after filter:\n",
      "Len of train interactions with period [2023-09-18 00:59:49 / 2023-09-30 18:55:18] - 5856731\n",
      "Len of test interactions with period [2022-04-10 21:12:58 / 2023-09-29 22:01:52] - 1464183\n"
     ]
    },
    {
     "data": {
      "text/html": [
       "<div>\n",
       "<style scoped>\n",
       "    .dataframe tbody tr th:only-of-type {\n",
       "        vertical-align: middle;\n",
       "    }\n",
       "\n",
       "    .dataframe tbody tr th {\n",
       "        vertical-align: top;\n",
       "    }\n",
       "\n",
       "    .dataframe thead th {\n",
       "        text-align: right;\n",
       "    }\n",
       "</style>\n",
       "<table border=\"1\" class=\"dataframe\">\n",
       "  <thead>\n",
       "    <tr style=\"text-align: right;\">\n",
       "      <th></th>\n",
       "      <th>user_id</th>\n",
       "      <th>item_id</th>\n",
       "      <th>timestamp</th>\n",
       "      <th>weight</th>\n",
       "      <th>index</th>\n",
       "    </tr>\n",
       "  </thead>\n",
       "  <tbody>\n",
       "    <tr>\n",
       "      <th>0</th>\n",
       "      <td>67741701</td>\n",
       "      <td>tt11125620</td>\n",
       "      <td>2023-09-30 18:55:18</td>\n",
       "      <td>0.906272</td>\n",
       "      <td>2928366</td>\n",
       "    </tr>\n",
       "    <tr>\n",
       "      <th>1</th>\n",
       "      <td>954501</td>\n",
       "      <td>tt1922777</td>\n",
       "      <td>2023-08-25 08:07:16</td>\n",
       "      <td>0.487424</td>\n",
       "      <td>2928367</td>\n",
       "    </tr>\n",
       "    <tr>\n",
       "      <th>2</th>\n",
       "      <td>33880201</td>\n",
       "      <td>tt13133936</td>\n",
       "      <td>2022-03-23 00:43:28</td>\n",
       "      <td>0.990000</td>\n",
       "      <td>2928368</td>\n",
       "    </tr>\n",
       "    <tr>\n",
       "      <th>3</th>\n",
       "      <td>18471701</td>\n",
       "      <td>tt6301712</td>\n",
       "      <td>2022-08-14 17:43:34</td>\n",
       "      <td>0.749275</td>\n",
       "      <td>2928369</td>\n",
       "    </tr>\n",
       "    <tr>\n",
       "      <th>4</th>\n",
       "      <td>20923001</td>\n",
       "      <td>tt2381249</td>\n",
       "      <td>2023-09-16 04:20:39</td>\n",
       "      <td>0.010000</td>\n",
       "      <td>2928370</td>\n",
       "    </tr>\n",
       "  </tbody>\n",
       "</table>\n",
       "</div>"
      ],
      "text/plain": [
       "    user_id     item_id           timestamp    weight    index\n",
       "0  67741701  tt11125620 2023-09-30 18:55:18  0.906272  2928366\n",
       "1    954501   tt1922777 2023-08-25 08:07:16  0.487424  2928367\n",
       "2  33880201  tt13133936 2022-03-23 00:43:28  0.990000  2928368\n",
       "3  18471701   tt6301712 2022-08-14 17:43:34  0.749275  2928369\n",
       "4  20923001   tt2381249 2023-09-16 04:20:39  0.010000  2928370"
      ]
     },
     "execution_count": 2,
     "metadata": {},
     "output_type": "execute_result"
    }
   ],
   "source": [
    "data = utils.load_data(utils.LightFM_Config)\n",
    "data.train_interactions.head()"
   ]
  },
  {
   "cell_type": "code",
   "execution_count": null,
   "metadata": {},
   "outputs": [],
   "source": [
    "dataset = data.get_lightfm_dataset(\n",
    "    list_values_columns=['genres'],\n",
    "    scalar_values_columns=['lifetime']\n",
    ")\n",
    "\n",
    "params = {\n",
    "    'no_components': [128, 256],\n",
    "    'item_alpha': [0.0005, 0.0001],\n",
    "    'num_epochs': [5, 7, 9]\n",
    "}\n",
    "\n",
    "estimator_params = utils.build_estimator_params(data, dataset)\n",
    "report_users = utils.get_users_for_test(data.train_interactions, min_n_interactions=10,max_n_interactions=10, top_n_hist=10)\n",
    "\n",
    "for p in sklearn.model_selection.ParameterGrid(params):\n",
    "    model = utils.SklearnEstimatorLightFM(random_state=RANDOM_STATE, **p)\n",
    "    model.fit(data.train_interactions, **estimator_params)\n",
    "\n",
    "    utils.users_report(model, report_users, 10, dataset, data, '_' + str(p), REPORTS_DIR);"
   ]
  },
  {
   "cell_type": "code",
   "execution_count": null,
   "metadata": {},
   "outputs": [],
   "source": [
    "estimator = utils.SklearnEstimatorLightFM(random_state=1337)\n",
    "scorer = utils.build_scorer(data, dataset)\n",
    "\n",
    "grid_search = sklearn.model_selection.GridSearchCV(\n",
    "    estimator,\n",
    "    params,\n",
    "    n_jobs=NUM_JOBS,\n",
    "    refit=False,\n",
    "    scoring=scorer,\n",
    "    cv=sklearn.model_selection.KFold(3, shuffle=True, random_state=1337),\n",
    "    verbose=10\n",
    ")\n",
    "grid_search.fit(data.train_interactions, **estimator_params);"
   ]
  },
  {
   "cell_type": "code",
   "execution_count": null,
   "metadata": {},
   "outputs": [
    {
     "data": {
      "text/html": [
       "<div>\n",
       "<style scoped>\n",
       "    .dataframe tbody tr th:only-of-type {\n",
       "        vertical-align: middle;\n",
       "    }\n",
       "\n",
       "    .dataframe tbody tr th {\n",
       "        vertical-align: top;\n",
       "    }\n",
       "\n",
       "    .dataframe thead th {\n",
       "        text-align: right;\n",
       "    }\n",
       "</style>\n",
       "<table border=\"1\" class=\"dataframe\">\n",
       "  <thead>\n",
       "    <tr style=\"text-align: right;\">\n",
       "      <th></th>\n",
       "      <th>item_alpha</th>\n",
       "      <th>no_components</th>\n",
       "      <th>split0_test_MAP</th>\n",
       "      <th>split1_test_MAP</th>\n",
       "      <th>split2_test_MAP</th>\n",
       "      <th>split0_test_Recall</th>\n",
       "      <th>split1_test_Recall</th>\n",
       "      <th>split2_test_Recall</th>\n",
       "      <th>split0_test_MeanInvUserFreq</th>\n",
       "      <th>split1_test_MeanInvUserFreq</th>\n",
       "      <th>split2_test_MeanInvUserFreq</th>\n",
       "    </tr>\n",
       "  </thead>\n",
       "  <tbody>\n",
       "    <tr>\n",
       "      <th>0</th>\n",
       "      <td>0.0000</td>\n",
       "      <td>32</td>\n",
       "      <td>0.012800</td>\n",
       "      <td>0.013136</td>\n",
       "      <td>0.012941</td>\n",
       "      <td>0.039973</td>\n",
       "      <td>0.040136</td>\n",
       "      <td>0.039717</td>\n",
       "      <td>5.102781</td>\n",
       "      <td>5.112524</td>\n",
       "      <td>5.107895</td>\n",
       "    </tr>\n",
       "    <tr>\n",
       "      <th>1</th>\n",
       "      <td>0.0001</td>\n",
       "      <td>32</td>\n",
       "      <td>0.007401</td>\n",
       "      <td>0.011272</td>\n",
       "      <td>0.007078</td>\n",
       "      <td>0.021507</td>\n",
       "      <td>0.035856</td>\n",
       "      <td>0.018465</td>\n",
       "      <td>5.538709</td>\n",
       "      <td>5.243351</td>\n",
       "      <td>5.618066</td>\n",
       "    </tr>\n",
       "  </tbody>\n",
       "</table>\n",
       "</div>"
      ],
      "text/plain": [
       "   item_alpha  no_components  split0_test_MAP  split1_test_MAP  \\\n",
       "0      0.0000             32         0.012800         0.013136   \n",
       "1      0.0001             32         0.007401         0.011272   \n",
       "\n",
       "   split2_test_MAP  split0_test_Recall  split1_test_Recall  \\\n",
       "0         0.012941            0.039973            0.040136   \n",
       "1         0.007078            0.021507            0.035856   \n",
       "\n",
       "   split2_test_Recall  split0_test_MeanInvUserFreq  \\\n",
       "0            0.039717                     5.102781   \n",
       "1            0.018465                     5.538709   \n",
       "\n",
       "   split1_test_MeanInvUserFreq  split2_test_MeanInvUserFreq  \n",
       "0                     5.112524                     5.107895  \n",
       "1                     5.243351                     5.618066  "
      ]
     },
     "execution_count": 20,
     "metadata": {},
     "output_type": "execute_result"
    }
   ],
   "source": [
    "cv_data = pd.DataFrame({k: v for k, v in grid_search.cv_results_.items() if k.startswith('split') or k=='params'})\n",
    "cv_data = pd.concat([pd.DataFrame.from_records(cv_data['params'].values, index=cv_data['params'].index), cv_data.drop(columns='params')], axis=1)\n",
    "cv_data.to_csv('grid_search.csv')\n",
    "\n",
    "cv_data.head(len(cv_data))"
   ]
  }
 ],
 "metadata": {
  "kernelspec": {
   "display_name": ".venv",
   "language": "python",
   "name": "python3"
  },
  "language_info": {
   "codemirror_mode": {
    "name": "ipython",
    "version": 3
   },
   "file_extension": ".py",
   "mimetype": "text/x-python",
   "name": "python",
   "nbconvert_exporter": "python",
   "pygments_lexer": "ipython3",
   "version": "3.10.11"
  }
 },
 "nbformat": 4,
 "nbformat_minor": 2
}
